{
 "cells": [
  {
   "cell_type": "code",
   "execution_count": 4,
   "id": "84382429",
   "metadata": {},
   "outputs": [],
   "source": [
    "%matplotlib inline\n",
    "import numpy as np\n",
    "from numpy.random import randn\n",
    "import matplotlib.pyplot as plt\n",
    "import scipy.io\n",
    "import scipy.misc\n",
    "import imageio\n",
    "import time"
   ]
  },
  {
   "cell_type": "code",
   "execution_count": 19,
   "id": "2dcd6fe4",
   "metadata": {},
   "outputs": [
    {
     "name": "stdout",
     "output_type": "stream",
     "text": [
      "For loop:\t0.000041\n",
      "NumPy dot:\t0.000039\n"
     ]
    }
   ],
   "source": [
    "python_array_w = []\n",
    "\n",
    "for i in range(1, 10000000):\n",
    "    python_array.append(i)\n",
    "python_array_x = python_array_w.copy()\n",
    "    \n",
    "np_array_w = np.array(i for i in python_array_w)\n",
    "np_array_x = np.array(i for i in python_array_w)\n",
    "\n",
    "start_py = time.time()\n",
    "for i in range(len(python_array_w)):\n",
    "    pytohn_array_w * python_array_x\n",
    "end_py = time.time()\n",
    "py_time = end_py-start_py\n",
    "\n",
    "start_np = time.time()\n",
    "f = np.dot(python_array_w, python_array_x)\n",
    "end_np = time.time()\n",
    "np_time = end_np-start_np\n",
    "\n",
    "print(\"For loop:\\t{:f}\".format(py_time))\n",
    "print(\"NumPy dot:\\t{:f}\".format(np_time))"
   ]
  },
  {
   "cell_type": "code",
   "execution_count": null,
   "id": "b42ee0ac",
   "metadata": {},
   "outputs": [],
   "source": []
  },
  {
   "cell_type": "code",
   "execution_count": null,
   "id": "717ddf02",
   "metadata": {},
   "outputs": [],
   "source": []
  }
 ],
 "metadata": {
  "kernelspec": {
   "display_name": "Python 3 (ipykernel)",
   "language": "python",
   "name": "python3"
  },
  "language_info": {
   "codemirror_mode": {
    "name": "ipython",
    "version": 3
   },
   "file_extension": ".py",
   "mimetype": "text/x-python",
   "name": "python",
   "nbconvert_exporter": "python",
   "pygments_lexer": "ipython3",
   "version": "3.10.9"
  }
 },
 "nbformat": 4,
 "nbformat_minor": 5
}
